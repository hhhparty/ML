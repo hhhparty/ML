{
 "cells": [
  {
   "cell_type": "markdown",
   "metadata": {},
   "source": [
    "# Requests 库基本使用教程\n",
    "\n",
    "The website is the API...\n",
    "\n",
    "requests第三方优秀http请求处理库，它简洁又简单。\n",
    "本文参考了以下文档和资源：\n",
    "- http://www.python-requests.org/en/master/user/quickstart/\n",
    "- http://www.python-requests.org/en/master/user/advanced/\n",
    "- http://www.python-requests.org/en/master/user/authentication/\n",
    "- https://www.icourse163.org Python网络爬虫与信息提取\n",
    "\n",
    "## 1. 安装 \n",
    "\n",
    "pipenv install rquests\n",
    "\n",
    "## 2. 源码下载 \n",
    "\n",
    "git clone git://github.com/requests/requests.git\n",
    "\n",
    "## 3. 普通单一网页内容的获取（最简单的requests应用）\n",
    "\n",
    "requests对urllib进行了扩展，使其更适合人们使用。我们会从下面的很多实例中感受到这一点。"
   ]
  },
  {
   "cell_type": "code",
   "execution_count": null,
   "metadata": {},
   "outputs": [],
   "source": [
    "\"\"\"发送简单http请求\"\"\"\n",
    "\n",
    "import requests\n",
    "#向目标服务器发送http get请求\n",
    "r = requests.get('https://api.github.com/events')\n",
    "print(r.text)\n",
    "\n",
    "#设置headers\n",
    "url = 'https://www.kuaidaili.com/free/'\n",
    "headers = {'Accept':'text/html,application/xhtml+xml,application/xml;q=0.9,image/webp,image/apng,*/*;q=0.8',\n",
    "           'User-Agent':'Mozilla/5.0 (Windows NT 10.0; WOW64) AppleWebKit/537.36 (KHTML, like Gecko) Chrome/69.0.3497.100 Safari/537.36',\n",
    "          }\n",
    "r = requests.get(url,headers=headers)\n",
    "print(r.text)"
   ]
  },
  {
   "cell_type": "markdown",
   "metadata": {},
   "source": [
    "### requests支持的HTTP方法\n",
    "\n",
    "requests中实现了以下HTTP方法：\n",
    "- get方法：请求指定的页面内容，并返回实体主体；get方法是http请求最常用的方法  \n",
    "requests 中发送http get请求，通过def get(url, params=None, \\**kwargs)这个函数。  \n",
    "\n",
    "- post方法：向指定资源提交数据（表单／文件）进行处理请求，数据被包含在请求体中；post请求可能导致新的资源的建立和已有资源的改变。 \n",
    "- head方法：类似get方法，返回的响应中没有具体内容，只有响应报头。 如果URL指向内容巨大，可以先获取head信息。\n",
    "- put方法：从客户端向服务器传送的数据取代指定的文档的内容（向url位置存储一个资源，覆盖原资源）。 \n",
    "- patch方法：请求局部更新url位置的资源，即改变该处资源的部分内容。\n",
    "- delete方法：请求服务器删除指定页面。 \n",
    "- option方法：允许客户端查看服务器的性能。 \n",
    "\n",
    "http/1.1 协议还有以下方法：\n",
    "\n",
    "- connect方法：http／1.1协议中预留给能够将连接改为管道方式的代理服务器。 \n",
    "- trace方法：回显服务器收到的请求，主要用于测试或诊断。\n",
    "\n",
    "下面依次试用requests中提供的HTTP方法："
   ]
  },
  {
   "cell_type": "code",
   "execution_count": null,
   "metadata": {},
   "outputs": [],
   "source": [
    "#向目标服务器发送head请求，事前需要到httpbin.org进行设置，了解get方法对应的url。\n",
    "import requests\n",
    "r = requests.head('http://httpbin.org/get')\n",
    "print(r.headers)\n",
    "print(r.text)"
   ]
  },
  {
   "cell_type": "code",
   "execution_count": null,
   "metadata": {},
   "outputs": [],
   "source": [
    "#向目标服务器发送post请求，事前需要到httpbin.org进行设置\n",
    "import requests"
   ]
  },
  {
   "cell_type": "code",
   "execution_count": null,
   "metadata": {
    "scrolled": true
   },
   "outputs": [],
   "source": [
    "#发送PATCH请求\n",
    "import requests\n",
    "r = requests.patch('http://httpbin.org/patch',data={'key1':'value1','key2':'value2'})\n",
    "print(r.headers)\n",
    "print(r.text)\n"
   ]
  },
  {
   "cell_type": "code",
   "execution_count": null,
   "metadata": {},
   "outputs": [],
   "source": [
    "#向目标服务器发送put/post请求\n",
    "r = requests.post('http://httpbin.org/put',data = {'key1':'value1','key2':'value2'})\n",
    "print(r.text)\n",
    "\n",
    "requests.request('post','http://httpbin.org/put',data = {'key1':'value1','key2':'value2'})\n",
    "print(r.text)\n"
   ]
  },
  {
   "cell_type": "code",
   "execution_count": null,
   "metadata": {},
   "outputs": [],
   "source": [
    "#向目标服务器发送delete请求\n",
    "import requests\n",
    "r = requests.get('http://httpbin.org/get')\n",
    "print(r.text)\n",
    "print('-'*20)\n",
    "r = requests.delete('http://httpbin.org/delete')\n",
    "print(r.status_code)\n",
    "print(r.text)\n",
    "\n"
   ]
  },
  {
   "cell_type": "code",
   "execution_count": null,
   "metadata": {},
   "outputs": [],
   "source": [
    "#向目标服务器发送options请求\n",
    "r = requests.options('http://httpbin.org/get')\n",
    "print(r.text)\n",
    "print('-'*20)"
   ]
  },
  {
   "cell_type": "markdown",
   "metadata": {},
   "source": [
    "### 理解响应对象\n",
    "\n",
    "requests中的响应对象含有更多的方法和属性，非常方便我们查看相关信息。特别是它会自动对内容进行解码，这样我们在查看响应内容时只需简单调用text或content属性即可。\n",
    "对于编码问题，有时很让人头疼，大多数时候我们需要猜测服务器会响应何种编码的内容。现在我们可以使用r.apparent_encoding查看，不需要猜了。Response对象可调用的属性还有很多，例如： \n",
    "\n",
    "- r.status_code : http请求的返回状态，200表示连接成功...\n",
    "- r.text : http响应内容的字符串形式；\n",
    "- r.encoding ：从http响应头重猜测的响应内容编码形式；\n",
    "- r.apparent_encoding ： 从内容中分析出的响应内容编码形式；\n",
    "- r.content ：http响应内容的二进制形式；\n",
    "- r.raise_for_status()：检查返回响应代码是否为200，否则返回一个异常。\n",
    "- r.headers 访问响应头信息，可以使用\n",
    "- r.cookies 访问response中的cookie，可以使用r.cookies"
   ]
  },
  {
   "cell_type": "code",
   "execution_count": null,
   "metadata": {
    "scrolled": true
   },
   "outputs": [],
   "source": [
    "\"\"\"理解响应\"\"\"\n",
    "import requests\n",
    "r = requests.get('https://api.github.com/events')\n",
    "\n",
    "print(r.status_code)\n",
    "print('-'*20)\n",
    "print(r.headers)\n",
    "print('-'*20)\n",
    "print(r.encoding)\n",
    "print('-'*20)\n",
    "print(r.apparent_encoding)\n",
    "print('-'*20)\n",
    "print(r.text)\n",
    "print('-'*20)\n",
    "print(r.content)\n",
    "print('-'*20)\n",
    "\n",
    "#响应头内容\n",
    "print(r.headers)\n",
    "print('-'*20)\n",
    "print(r.headers['Content-Type'])\n",
    "print(r.headers.get('content-type'))\n",
    "\n",
    "#响应中的cookies\n",
    "r = requests.get('http://www.baidu.com')\n",
    "print(r.cookies)\n",
    "\n",
    "# 重定向与历史\n",
    "print(r.history)"
   ]
  },
  {
   "cell_type": "markdown",
   "metadata": {},
   "source": [
    "### 原始响应内容 \n",
    "\n",
    "很少情况下，我们要查看来自server的原始socket响应，你可能访问r.raw。 如果你想查看，你需要在Initial request中设置stream=True。 获得原始socket后，通常会把他们存在文件里。"
   ]
  },
  {
   "cell_type": "code",
   "execution_count": null,
   "metadata": {},
   "outputs": [],
   "source": [
    "\"\"\" 3.8. 原始响应内容 \n",
    "获得原始socket响应内容\"\"\"\n",
    "import requests\n",
    "\n",
    "r = requests.get('https://api.github.com/events',stream = True)\n",
    "#尝试输出\n",
    "#print(r.raw)\n",
    "#print(r.raw.read(10))\n",
    "\n",
    "#尝试输出到文件\n",
    "#iter_content会帮你处理原始数据，它会自动化的解码gzip和deflate传输编码。\n",
    "#raw属性是原始字节流，不能传输响应内容，如果你真的需要访问返回的字节流，就可以用raw。\n",
    "#在下载流文件时，下面的方法是推荐的。chunk的大小可以自由设定，这视你的buffer大小。\n",
    "\n",
    "filename = 'rawsocket.bin'\n",
    "with open(filename,'wb') as fd:\n",
    "    for chunk in r.iter_content(chunk_size=128):\n",
    "        fd.write(chunk)"
   ]
  },
  {
   "cell_type": "markdown",
   "metadata": {},
   "source": [
    "## 4. 构建自己的单页面爬取程序框架\n",
    "\n",
    "经过之前的学习，已经有了一些经验，我们可以构建一个自己的简单页面爬取框架，之后的程序我们会在这个较为健壮的框架下逐步扩展。\n",
    "\n",
    "#### 较为健壮的程序处理流程\n",
    "\n",
    "1. 发送请求；\n",
    "2. 检查r.status_code，或调用r.raise_for_status()；\n",
    "3. 若为2xx，则正常处理；\n",
    "4. 若为4xx，5xx则异常处理；"
   ]
  },
  {
   "cell_type": "code",
   "execution_count": null,
   "metadata": {},
   "outputs": [],
   "source": [
    "try:\n",
    "    r = requests.get(url)\n",
    "    r.raise_for_status()\n",
    "    r.encoding = r.apparent_encoding\n",
    "    return r.text\n",
    "except:\n",
    "    return \"Some exceptions were raised.\""
   ]
  },
  {
   "cell_type": "markdown",
   "metadata": {},
   "source": [
    "### requests异常处理\n",
    "\n",
    "requests库的异常处理类有以下：\n",
    "- requests.ConnectionError 网络连接错误异常，如DNS查询失败，拒绝连接等；网络问题时，发送请求常导致 ConnectionError exception；\n",
    "- requests.HTTPError http错误异常；当状态码不是成功状态码时（200），Response.raise_for_status()引发该异常；\n",
    "- requests.URLRequired URL确实异常\n",
    "- requests.TooManyRedirects 超过最大重定向次数，产生重定向异常\n",
    "- requests.ConnectTimeout 连接远程服务器超时异常\n",
    "- requests.Timeout 请求URL超时异常\n",
    "\n",
    "所有异常都继承了 requests.exceptions.RequestException.\n",
    "\n",
    "可以设置timeout参数，限制等待server响应的时间,单位是秒。\n",
    "requests.get('https://github.com/', timeout=2)\n"
   ]
  },
  {
   "cell_type": "code",
   "execution_count": null,
   "metadata": {},
   "outputs": [],
   "source": [
    "\"\"\"异常处理的基本方法(代码框架)\"\"\"\n",
    "\n",
    "import requests\n",
    "\n",
    "def getHTML(url):\n",
    "    try:\n",
    "        r = requests.get(url,timeout = 3)\n",
    "        r.raise_for_status()\n",
    "        r.encoding = r.apparent_encoding\n",
    "        return r.text\n",
    "    except requests.HTTPError as e:\n",
    "        print(e)\n",
    "    except requests.RequestException as e:\n",
    "        print(e)\n",
    "    except:\n",
    "        return \"Some exceptions were raised.\"\n",
    "    \n",
    "if __name__ == '__main__':\n",
    "    url = 'http://www.ba1idu.com'\n",
    "    print(getHTML(url))"
   ]
  },
  {
   "cell_type": "markdown",
   "metadata": {},
   "source": [
    "## 5. 应用requests库向服务器提交数据/信息\n",
    "\n",
    "HTTP中的大多数方法都能够向服务器提交数据，例如GET方法提交查询字符串，POST方法提交表单信息等等。  \n",
    "url中很常见的查询串（键值对）通常由get方法发送。 \n",
    "使用字典方式建立参数键值对，然后令参数params = 字典名 requests 会自动对url进行编码。\n",
    "\n",
    "#### 访问方法中的参数详情\n",
    "requests中最基本的方法是def request(method, url,\\**kwargs)  \n",
    "最好通过阅读源代码来理解或使用。\n",
    "\n",
    "- param url: URL for the new :class:\\`Request\\` object.\n",
    "- param params: (optional) Dictionary or bytes to be sent in the query string for the :class:\\`Request`.\n",
    "- param data: (optional) Dictionary or list of tuples \\`\\`[(key, value)]\\`\\` (will be form-encoded), bytes, or file-like object to send in the body of the :class:\\`Request\\`.\n",
    "- param json: (optional) json data to send in the body of the :class:\\`Request\\`.\n",
    "- param headers: (optional) Dictionary of HTTP Headers to send with the :class:\\`Request\\`.\n",
    "- param cookies: (optional) Dict or CookieJar object to send with the :class:\\`Request\\`.\n",
    "- param files: (optional) \n",
    "- param auth: (optional) Auth tuple to enable Basic/Digest/Custom HTTP Auth.\n",
    "- param timeout: (optional) How many seconds to wait for the server to send data before giving up, as a float\n",
    "\n",
    "Cookies的处理可以使用requests.cookies.RequestsCookieJar对象，它类似字典，但提供更多完成接口，方便多个域或路径的cookies\n",
    "cookiejars可以传递给请求，以方便认证与维持会话。"
   ]
  },
  {
   "cell_type": "code",
   "execution_count": null,
   "metadata": {},
   "outputs": [],
   "source": [
    "#1 get方法中传递参数\n",
    "import requests\n",
    "\n",
    "url = 'https://www.baidu.com/s'\n",
    "headers = {'Accept':'text/html,application/xhtml+xml,application/xml;q=0.9,image/webp,image/apng,*/*;q=0.8',\n",
    "           'User-Agent':'Mozilla/5.0 (Windows NT 10.0; WOW64) AppleWebKit/537.36 (KHTML, like Gecko) Chrome/69.0.3497.100 Safari/537.36',\n",
    "          }\n",
    "\n",
    "payload = {'wd':'北航'}\n",
    "r = requests.get(url,params =payload,headers=headers)\n",
    "\n",
    "\n",
    "# you can see that the URL has been correctly encoded by printing the URL:\n",
    "print(r.request.url)\n",
    "print(r.text)"
   ]
  },
  {
   "cell_type": "code",
   "execution_count": null,
   "metadata": {},
   "outputs": [],
   "source": [
    "# post数据提交\n",
    "import requests\n",
    "payload = {'key1': 'value1', 'key2': 'value2'}\n",
    "r = requests.post(\"https://httpbin.org/post\", data=payload)\n",
    "print(r.text)"
   ]
  },
  {
   "cell_type": "code",
   "execution_count": null,
   "metadata": {},
   "outputs": [],
   "source": [
    "# 2.自定义参数\n",
    "url = 'http://httpbin.org/get'\n",
    "cookies = dict(cookies_are='working')\n",
    "r = requests.get(url, cookies=cookies)\n",
    "\n",
    "# 3.管理cookie\n",
    "# Cookies are returned in a RequestsCookieJar, \n",
    "# which acts like a dict but also offers a more complete interface,\n",
    "# suitable for use over multiple domains or paths. Cookie jars can also be passed in to requests:\n",
    "\n",
    "jar = requests.cookies.RequestsCookieJar()\n",
    "jar.set('tasty_cookie', 'yum', domain='httpbin.org', path='/cookies')\n",
    "jar.set('gross_cookie', 'blech', domain='httpbin.org', path='/elsewhere')\n",
    "url = 'https://httpbin.org/cookies'\n",
    "r = requests.get(url, cookies=jar)\n",
    "r.text"
   ]
  },
  {
   "cell_type": "markdown",
   "metadata": {},
   "source": [
    "### 复杂的POST请求的提交\n",
    "使用字典组织表单数据，requests会将其自动编码。\n",
    "这部分包括提交form表单数据、非form的data数据、json数据\n",
    "\n",
    "### 3.10. POST a Multipart-Encoded File\n",
    "requests能方便地上传多种编码的文件，例如excel文件。\n",
    "request还允许你将字符串传给服务器，并在服务器上以文件形式保存。\n",
    "如果文件很大，且以multipart/form-data方式提交请求，你可能需要stream这个请求，这时需要使用 requests-toolbelt包，requests包本身不支持。\n",
    "warnings： 强烈建议以二进制形式打开文件，因为如果这个值被设置为文件字节数，requests尝试提供Content-Length头信息给你；如果你用text方式打开，那么可能引发异常。"
   ]
  },
  {
   "cell_type": "code",
   "execution_count": null,
   "metadata": {},
   "outputs": [],
   "source": [
    "\"\"\"复杂的POST请求\n",
    "\n",
    "\"\"\"\n",
    "# demo 2 数据参数也可以是一个键对应多个值；这可能用于多选项。\n",
    "payload_tuples = [('key1','value1'),('key1','value2')]\n",
    "r1 = requests.post('https://httpbin.org/post', data=payload_tuples)\n",
    "payload_dict = {'key1': ['value1', 'value2']}\n",
    "r2 = requests.post('https://httpbin.org/post', data=payload_dict)\n",
    "print(r1.text)\n",
    "r1.text == r2.text\n"
   ]
  },
  {
   "cell_type": "code",
   "execution_count": null,
   "metadata": {},
   "outputs": [],
   "source": [
    "# demo 如果你不想传递form-encoding数据，而想传递原始字符串，那么就直接使用字符串传递，而不使用字典\n",
    "\n",
    "r3 = requests.post('https://httpbin.org/post', data='key1:value1')\n",
    "print(r3.text)\n",
    "\n",
    "# demo 4 如果希望传递JSON-Encoded数据\n",
    "import json\n",
    "url = 'https://httpbin.org/post'\n",
    "payload = {'some':'data'}\n",
    "r = requests.post(url,data=json.dumps(payload)) #json.dumps方法是将字典编码为json格式。\n",
    "print(r.text)\n"
   ]
  },
  {
   "cell_type": "code",
   "execution_count": null,
   "metadata": {},
   "outputs": [],
   "source": [
    "#     也可以使用新版requests中的自动json编码方式\n",
    "url = 'https://httpbin.org/post'\n",
    "payload = {'some':'data'}\n",
    "r = requests.post(url,json=payload) #json.dumps方法是将字典编码为json格式。\n",
    "print(r.text)"
   ]
  },
  {
   "cell_type": "code",
   "execution_count": null,
   "metadata": {},
   "outputs": [],
   "source": [
    "\"\"\"3.10. POST a Multipart-Encoded File\"\"\"\n",
    "\n",
    "import requests\n",
    "url = 'https://httpbin.org/post'\n",
    "#You can set the filename, content_type and headers explicitly:\n",
    "files = {'file':open('test.xlsx','rb')}\n",
    "#files = {'file': ('report.xls', open('report.xls', 'rb'), 'application/vnd.ms-excel', {'Expires': '0'})}\n",
    "r = requests.post(url,files=files)\n",
    "print(r.text)\n",
    "\n",
    "# 如果需要可以将字符串送到服务器，并要求以文件形式接收\n",
    "url = 'https://httpbin.org/post'\n",
    "\n",
    "files = {'file':('report.csv','some,data,to,send\\nanother,row,to,send\\n')}\n",
    "#files = {'file': ('report.xls', open('report.xls', 'rb'), 'application/vnd.ms-excel', {'Expires': '0'})}\n",
    "r = requests.post(url,files=files)\n",
    "print(r.text)"
   ]
  },
  {
   "cell_type": "markdown",
   "metadata": {},
   "source": [
    "## 6. 非纯文本类信息的获取与解析\n",
    "\n",
    "### 二进制文件下载\n",
    "\n",
    "office文档文件、图片文件、音频文件、视频文件以及一些数据库文件都是以二进制形式存储的，一方面我们要考虑下载这些已知的二进制数据；另一方面，有一些数据的格式不知道是不是二进制的，怎么确认是二进制文件呢？如果响应对象r.content 返回b'......'就表示响应是二进制的。 requests对于gzip／deflate transfer-encodings压缩格式，也可以自动解码。\n"
   ]
  },
  {
   "cell_type": "code",
   "execution_count": null,
   "metadata": {},
   "outputs": [],
   "source": [
    "\"\"\"二进制响应内容（图片、文件） \n",
    "响应内容的获取二进制形式的响应\"\"\"\n",
    "#例如，根据响应内容，生成图片\n",
    "from PIL import Image\n",
    "from io import BytesIO\n",
    "import requests\n",
    "jpgurl = 'https://timgsa.baidu.com/timg?image&quality=80&size=b9999_10000&sec=1538158176072&di=7b3823e700e7f0f7358a3147f97d1958&imgtype=0&src=http%3A%2F%2Fimgsrc.baidu.com%2Fimgad%2Fpic%2Fitem%2F10dfa9ec8a1363277999f1ad9b8fa0ec08fac733.jpg'\n",
    "r = requests.get(jpgurl)\n",
    "#print(r.content)\n",
    "i = Image.open(BytesIO(r.content))\n",
    "i.save('./123.jpg')\n",
    "\n",
    "#也可以用写二进制文件的方法。"
   ]
  },
  {
   "cell_type": "markdown",
   "metadata": {},
   "source": [
    "### 解析json响应内容 \n",
    "\n",
    "requests中有一个内建的json解码器,使用r.json()就可以使用。  \n",
    "万一json解码失败，r.json()会抛出异常，例如响应码为204（no content），或响应包含无效的json，就会抛出ValueError：No Json object could be decoded. 错误.  \n",
    "注意：json解码成功时，并不显示成功，所以为了检查是否成功，使用r.raise_for_status()或检查r.status_code是否是你希望的结果。\n",
    "\n"
   ]
  },
  {
   "cell_type": "code",
   "execution_count": null,
   "metadata": {},
   "outputs": [],
   "source": [
    "\"\"\"解析json响应内容 \"\"\"\n",
    "import requests\n",
    "try:\n",
    "    r = requests.get('https://api.github.com/events')\n",
    "    r.raise_for_status()\n",
    "    #print(r.content)\n",
    "    print(r.json())\n",
    "except ValueError as e:\n",
    "    print(e)#no json会触发该异常\n",
    "except IOError as e:\n",
    "    print(e)"
   ]
  },
  {
   "cell_type": "markdown",
   "metadata": {},
   "source": [
    "## 7. 响应状态码\n",
    "我们可以通过响应对象的属性r.status_code查看状态码；\n",
    "requests内置了响应状态码，以方便参考：\n",
    "r.status_code == requests.codes.ok\n",
    "\n",
    "## 8. 重定向和历史\n",
    "默认requests的各种方法会执行定位重定向，但除了HEAD方法。\n",
    "我们可以使用响应的history属性来跟踪重定向。\n",
    "Response.histroy列表包含了为了完成请求而生成的响应对象。这个列表按时间先后顺序排序。\n",
    "例如github重定向所有http到https。\n",
    "\n",
    "如果你使用GET、OPTIONS POST PUT PATCH DELETE方法，你可以关闭重定向开关allow_redirects = False\n",
    "r = requests.get('https://github.com/', allow_redirects=False)"
   ]
  },
  {
   "cell_type": "code",
   "execution_count": null,
   "metadata": {},
   "outputs": [],
   "source": [
    "\"\"\"3.11. 响应状态码\"\"\"\n",
    "import requests\n",
    "\n",
    "print(requests.codes.OK)\n",
    "print(requests.codes.BAD)\n"
   ]
  }
 ],
 "metadata": {
  "kernelspec": {
   "display_name": "Python 3",
   "language": "python",
   "name": "python3"
  },
  "language_info": {
   "codemirror_mode": {
    "name": "ipython",
    "version": 3
   },
   "file_extension": ".py",
   "mimetype": "text/x-python",
   "name": "python",
   "nbconvert_exporter": "python",
   "pygments_lexer": "ipython3",
   "version": "3.6.5"
  }
 },
 "nbformat": 4,
 "nbformat_minor": 2
}
