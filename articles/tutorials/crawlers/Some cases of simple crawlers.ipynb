{
 "cells": [
  {
   "cell_type": "code",
   "execution_count": null,
   "metadata": {},
   "outputs": [],
   "source": [
    "\"\"\"简单请求发送实例\n",
    "京东商品爬取\n",
    "用爬虫获取某品牌手机信息\n",
    "\"\"\"\n",
    "import requests\n",
    "try:\n",
    "    url = 'https://item.j1d.com/100000287133.html'\n",
    "    r = requests.get(url)\n",
    "    r.raise_for_status()\n",
    "    print(r.text[:1000])\n",
    "except requests.HTTPError as e:\n",
    "    print(e)\n",
    "except requests.RequestException as e:\n",
    "    print(e)\n",
    "except requests.ConnectionError as e:\n",
    "    print(e.reasons)"
   ]
  },
  {
   "cell_type": "code",
   "execution_count": null,
   "metadata": {},
   "outputs": [],
   "source": [
    "import urllib.error\n",
    "help(urllib.error.HTTPError.info)"
   ]
  },
  {
   "cell_type": "code",
   "execution_count": null,
   "metadata": {},
   "outputs": [],
   "source": [
    "\"\"\"浏览器模拟实例\n",
    "亚马逊某书的爬取\n",
    "注意：亚马逊设有User-Agent内容审查\n",
    "\"\"\"\n",
    "#demo 1 不成功的访问\n",
    "import requests\n",
    "try:\n",
    "    url = 'https://www.amazon.cn/dp/B0083DP0CY/ref=cngwdyfloorv2_recs_0/462-9378656-3432462?pf_rd_m=A1AJ19PSB66TGU&pf_rd_s=desktop-2&pf_rd_r=JE69WDXKGJ7HJG9T6TAV&pf_rd_r=JE69WDXKGJ7HJG9T6TAV&pf_rd_t=36701&pf_rd_p=d0690322-dfc8-4e93-ac2c-8e2eeacbc49e&pf_rd_p=d0690322-dfc8-4e93-ac2c-8e2eeacbc49e&pf_rd_i=desktop'\n",
    "    r = requests.get(url)\n",
    "    r.raise_for_status()\n",
    "    print(r.text[:1000])\n",
    "except requests.HTTPError as e:\n",
    "    print(e)\n",
    "    print(r.request.headers)\n",
    "except:\n",
    "    print('Some exceptions were raised!')\n",
    "\n",
    "#demo 2 设置User-Agent后的成功访问\n",
    "import requests\n",
    "try:\n",
    "    url = 'https://www.amazon.cn/dp/B0083DP0CY/ref=cngwdyfloorv2_recs_0/462-9378656-3432462?pf_rd_m=A1AJ19PSB66TGU&pf_rd_s=desktop-2&pf_rd_r=JE69WDXKGJ7HJG9T6TAV&pf_rd_r=JE69WDXKGJ7HJG9T6TAV&pf_rd_t=36701&pf_rd_p=d0690322-dfc8-4e93-ac2c-8e2eeacbc49e&pf_rd_p=d0690322-dfc8-4e93-ac2c-8e2eeacbc49e&pf_rd_i=desktop'\n",
    "    headers = {'User-Agent':'Mozilla/5.0'}\n",
    "    r = requests.get(url,headers=headers)\n",
    "    r.raise_for_status()\n",
    "    print(r.text[1000:4000])\n",
    "except requests.HTTPError as e:\n",
    "    print(e)\n",
    "\n",
    "except:\n",
    "    print('Some exceptions were raised!')"
   ]
  },
  {
   "cell_type": "code",
   "execution_count": 29,
   "metadata": {},
   "outputs": [
    {
     "name": "stdout",
     "output_type": "stream",
     "text": [
      "http://www.baidu.com/s?wd=%E5%8C%97%E8%88%AA\n",
      "270412\n"
     ]
    }
   ],
   "source": [
    "\"\"\"向网站提交参数实例\n",
    "百度或360搜索引擎关键字提交\n",
    "百度搜索关键词接口：http://www.baidu.com/s?wd=keyword\n",
    "360搜索关键词接口：http://www.so.com/s?q=keyword\n",
    "\n",
    "\"\"\"\n",
    "import requests\n",
    "\n",
    "wd = {'wd':'北航'}\n",
    "url = 'http://www.baidu.com/s'\n",
    "try: \n",
    "    r = requests.get(url,params = wd)    \n",
    "    print(r.request.url)\n",
    "    r.raise_for_status()\n",
    "    print(len(r.text))\n",
    "except requests.HTTPError as e:\n",
    "    print(e)\n",
    "except IOError as e:\n",
    "    print('Some exceptions were raised!')"
   ]
  },
  {
   "cell_type": "code",
   "execution_count": 39,
   "metadata": {},
   "outputs": [
    {
     "name": "stdout",
     "output_type": "stream",
     "text": [
      ".\\photoes\\20171002102047422.jpg\n",
      "文件保存成功\n"
     ]
    }
   ],
   "source": [
    "\"\"\"图片的爬取与存储\n",
    "图片的URL：http://image.nationalgeographic.com.cn/2017/1002/20171002102047422.jpg\n",
    "\"\"\"\n",
    "import requests\n",
    "import os\n",
    "\n",
    "url = 'http://image.nationalgeographic.com.cn/2017/1002/20171002102047422.jpg'\n",
    "imgDir = '.\\photoes'\n",
    "if not os.path.exists(imgDir):\n",
    "    os.mkdir(imgDir)\n",
    "imgpath = os.path.join(imgDir,url.split('/')[-1])\n",
    "print(imgpath)\n",
    "try:\n",
    "    r = requests.get(url)\n",
    "    r.raise_for_status()\n",
    "    with open(imgpath,'wb') as f:\n",
    "        f.write(r.content)\n",
    "    print('文件保存成功')\n",
    "except requests.HTTPError as e:\n",
    "    print(e)\n",
    "except:\n",
    "    print('Some exceptions were raised.')"
   ]
  },
  {
   "cell_type": "code",
   "execution_count": 49,
   "metadata": {},
   "outputs": [
    {
     "name": "stdout",
     "output_type": "stream",
     "text": [
      "om/weather/search.asp\" name=\"weathersearch\" target=\"_blank\">\r\n",
      "<input type=\"hidden\" name=\"k\" value=\"\" />\r\n",
      "</form>\r\n",
      "<form method=\"post\" action=\"http://www.ip138.com/post/search.asp\" name=\"area2zip\" target=\"_blank\">\r\n",
      "<input type=\"hidden\" name=\"area\" value=\"\" />\r\n",
      "<input type=\"hidden\" name=\"action\" value=\"area2zip\" />\r\n",
      "</form>\r\n",
      "<table width=\"80%\"  border=\"0\" align=\"center\" cellpadding=\"0\" cellspacing=\"0\">\r\n",
      "\t<tr>\r\n",
      "\t\t<td align=\"center\"><h3>ip138.com IP查询(搜索IP地址的地理位置)</h3></td>\r\n",
      "\t</tr>\r\n",
      "\t<tr>\r\n",
      "\t\t<td align=\"center\"><h1>您查询的IP:202.204.123.123</h1></td>\r\n",
      "\t</tr>\r\n",
      "\t<tr>\r\n",
      "\t\t<td align=\"center\"><ul class=\"ul1\"><li>本站数据：北京市海淀区 北京林业大学 教育网</li><li>参考数据1：北京北京 北京林业大学 教育网</li><li>参考数据2：北京市 北京林业大学</li><li>兼容IPv6地址\n"
     ]
    }
   ],
   "source": [
    "\"\"\"IP地址归属地的自动查询\n",
    "www.ip138.com\n",
    "http://www.ip138.com/ips138.asp?ip=123.123.123.123&action=2\n",
    "\"\"\"\n",
    "\n",
    "import requests\n",
    "url = 'http://www.ip138.com/ips138.asp'\n",
    "ipdict = {'ip':'202.204.123.123','action':'2'}\n",
    "try:\n",
    "    r = requests.get(url,params=ipdict)\n",
    "    r.raise_for_status()\n",
    "    r.encoding = r.apparent_encoding\n",
    "    print(r.text[-2800:-1800])\n",
    "except requests.HTTPError as e:\n",
    "    print(e)\n",
    "except:\n",
    "    print('Some exceptions were raised.')\n"
   ]
  },
  {
   "cell_type": "code",
   "execution_count": null,
   "metadata": {},
   "outputs": [],
   "source": []
  }
 ],
 "metadata": {
  "kernelspec": {
   "display_name": "Python 3",
   "language": "python",
   "name": "python3"
  },
  "language_info": {
   "codemirror_mode": {
    "name": "ipython",
    "version": 3
   },
   "file_extension": ".py",
   "mimetype": "text/x-python",
   "name": "python",
   "nbconvert_exporter": "python",
   "pygments_lexer": "ipython3",
   "version": "3.6.5"
  }
 },
 "nbformat": 4,
 "nbformat_minor": 2
}
