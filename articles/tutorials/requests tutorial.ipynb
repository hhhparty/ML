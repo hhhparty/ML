{
 "cells": [
  {
   "cell_type": "markdown",
   "metadata": {},
   "source": [
    "# Requests 库基本使用教程\n",
    "\n",
    "1.安装\n",
    "    pipenv install rquests\n",
    "2.源码下载\n",
    "    git clone git://github.com/requests/requests.git\n",
    "3.quickstart\n",
    "    主要参考：http://www.python-requests.org/en/master/user/quickstart/\n",
    "\n",
    "4.发送简单http请求\n",
    "    get方法：请求指定的页面内容，并返回实体主体\n",
    "    post方法：向指定资源提交数据（表单／文件）进行处理请求，数据被包含在请求体中；post请求可能导致新的资源的建立和已有资源的改变。\n",
    "    head方法：类似get方法，返回的响应中没有具体内容，只有响应报头。\n",
    "    put方法：从客户端向服务器传送的数据取代指定的文档的内容。\n",
    "    delete方法：请求服务器删除指定页面。\n",
    "    connect方法：http／1.1协议中预留给能够将连接改为管道方式的代理服务器。\n",
    "    option方法：允许客户端查看服务器的性能。\n",
    "    trace方法：回显服务器收到的请求，主要用于测试或诊断。\n",
    "\n",
    "5.在url中传递参数\n",
    "    url中很常见的查询串（键值对）通常由get方法发送。\n",
    "    使用字典方式建立参数键值对，然后令参数params = 字典名\n",
    "    requests 会自动对url进行编码。\n",
    "6.响应内容的获取\n",
    "    仍然以github timeline为例.\n",
    "    可以看到，不像urllib，响应内容自动解码了，大多数的unicode编码可以无痕解码。\n",
    "    当我们构造请求是，有时会猜测响应的编码格式，使用r.encoding可以直接查看，不需要猜了。\n",
    "    赋值r.encoding = 'gbk'或别的编码，可以方便的改变编码，以便你需要特殊编码的情况。\n",
    "7.二进制响应内容（图片、文件）\n",
    "    不需要特殊设置，r.content 返回b'......'就表示响应是二进制的。\n",
    "    gzip／deflate transfer-encodings压缩格式，也可以自动解码。\n",
    "    \n",
    "8.json响应内容\n",
    "    requests中有一个内建的json解码器,使用r.json()就可以使用。\n",
    "    万一json解码失败，r.json()会抛出异常，例如响应码为204（no content），或响应包含无效的json，就会抛出ValueError：No Json object could be decoded. 错误\n",
    "    注意：json解码成功时，并不显示成功，所以为了检查是否成功，使用r.raise_for_status()或检查r.status_code是否是你希望的结果。"
   ]
  },
  {
   "cell_type": "code",
   "execution_count": 3,
   "metadata": {},
   "outputs": [
    {
     "name": "stdout",
     "output_type": "stream",
     "text": [
      "<Response [200]>\n"
     ]
    }
   ],
   "source": [
    "\"\"\"发送简单http请求并获得响应\"\"\"\n",
    "\n",
    "import requests\n",
    "#向目标服务器发送http get请求\n",
    "r = requests.get('https://api.github.com/events')\n",
    "print(r.content)\n",
    "#向目标服务器发送put/post请求\n",
    "r = requests.put('http://httpbin.org/put',data = {'key':'value'})\n",
    "#向目标服务器发送delete请求\n",
    "r = requests.delete('http://httpbin.org/delete')\n",
    "#向目标服务器发送head请求\n",
    "r = requests.head('http://httpbin.org/get')\n",
    "#向目标服务器发送options请求\n",
    "r = requests.options('http://httpbin.org/get')\n",
    "\n",
    "print(r.content)"
   ]
  },
  {
   "cell_type": "code",
   "execution_count": null,
   "metadata": {
    "scrolled": true
   },
   "outputs": [],
   "source": [
    "\"\"\"在url中传递参数，get方法，使用键值对\"\"\"\n",
    "payload = {'key1':'value1','毕业院校':'北航'}\n",
    "r = requests.get('http://httpbin.org/get',params = payload)\n",
    "print(r.content)\n",
    "# you can see that the URL has been correctly encoded by printing the URL:\n",
    "print(r.url)\n",
    "\n",
    "# You can pass a list of items as a value:\n",
    "payload = {'key1':'value1','key2':['value2','value3']}\n",
    "r = requests.get('http://httpbin.org/get',params = payload)\n",
    "print(r.url)"
   ]
  },
  {
   "cell_type": "code",
   "execution_count": null,
   "metadata": {},
   "outputs": [],
   "source": [
    "\"\"\"响应内容的获取\"\"\"\n",
    "import requests\n",
    "r = requests.get('https://api.github.com/events')\n",
    "print(r.text)\n",
    "print(r.encoding)\n",
    "r.encoding = 'ISO-8859-1'\n",
    "print(r.text)\n",
    "print(r.encoding)"
   ]
  },
  {
   "cell_type": "code",
   "execution_count": 10,
   "metadata": {},
   "outputs": [],
   "source": [
    "\"\"\"二进制形式的响应\"\"\"\n",
    "#例如，根据响应内容，生成图片\n",
    "from PIL import Image\n",
    "from io import BytesIO\n",
    "import requests\n",
    "jpgurl = 'https://timgsa.baidu.com/timg?image&quality=80&size=b9999_10000&sec=1538158176072&di=7b3823e700e7f0f7358a3147f97d1958&imgtype=0&src=http%3A%2F%2Fimgsrc.baidu.com%2Fimgad%2Fpic%2Fitem%2F10dfa9ec8a1363277999f1ad9b8fa0ec08fac733.jpg'\n",
    "r = requests.get(jpgurl)\n",
    "#print(r.content)\n",
    "i = Image.open(BytesIO(r.content))\n",
    "i.save('./123.jpg')"
   ]
  },
  {
   "cell_type": "code",
   "execution_count": 26,
   "metadata": {},
   "outputs": [],
   "source": [
    "import requests\n",
    "r = requests.get('https://api.github.com/events')\n",
    "#print(r.content)\n",
    "if r.status_code == 200:\n",
    "    #if not r.raise_for_status():\n",
    "    r.json()"
   ]
  },
  {
   "cell_type": "code",
   "execution_count": null,
   "metadata": {},
   "outputs": [],
   "source": []
  }
 ],
 "metadata": {
  "kernelspec": {
   "display_name": "Python 3",
   "language": "python",
   "name": "python3"
  },
  "language_info": {
   "codemirror_mode": {
    "name": "ipython",
    "version": 3
   },
   "file_extension": ".py",
   "mimetype": "text/x-python",
   "name": "python",
   "nbconvert_exporter": "python",
   "pygments_lexer": "ipython3",
   "version": "3.6.5"
  }
 },
 "nbformat": 4,
 "nbformat_minor": 2
}
