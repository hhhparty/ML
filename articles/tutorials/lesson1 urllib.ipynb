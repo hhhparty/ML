{
 "cells": [
  {
   "cell_type": "markdown",
   "metadata": {
    "collapsed": true
   },
   "source": [
    "This is a tutorial of urllib package.\n",
    "\n",
    "# HOWTO Fetch Internet Resources Using The urllib Package \n",
    "\n",
    "## Intoduction\n",
    "\n",
    "urllib.request is a Python module for fetching URLs (Uniform Resource Locators). It offers a very simple interface, in the form of the urlopen function. This is capable of fetching URLs using a variety of different protocols. It also offers a slightly more complex interface for handling common situations - like basic authentication, cookies, proxies and so on. These are provided by objects called handlers and openers.\n",
    "\n",
    "## Fetching URLs\n",
    "The simplest way to use urllib.request is as follows:"
   ]
  },
  {
   "cell_type": "code",
   "execution_count": null,
   "metadata": {},
   "outputs": [],
   "source": [
    "# 1.The simplest way to use urllib.request \n",
    "import urllib.request\n",
    "\n",
    "with urllib.request.urlopen('http://www.baidu.com') as response:\n",
    "    html = response.read()\n",
    "    print(html)"
   ]
  },
  {
   "cell_type": "markdown",
   "metadata": {},
   "source": [
    "If you wish to retrieve a resource via URL and store it in a temporary location, you can do so via the urlretrieve() function:"
   ]
  },
  {
   "cell_type": "code",
   "execution_count": null,
   "metadata": {},
   "outputs": [],
   "source": [
    "# 2. Using urlretrieve function of fetching url\n",
    "import urllib.request\n",
    "\n",
    "local_filename, headers = urllib.request.urlretrieve('http://www.baidu.com')\n",
    "#print(local_filename)\n",
    "#print(headers)\n",
    "html = open(local_filename)\n"
   ]
  },
  {
   "cell_type": "markdown",
   "metadata": {},
   "source": [
    "### Constructing Request Object\n",
    "\n",
    "In order to send request to website like a real browser, we need construct a urllib.request.Request object which could customize http headers and post data.\n",
    "In the case of HTTP, there are two extra things that Request objects allow you to do: First, you can pass data to be sent to the server. Second, you can pass extra information (“metadata”) about the data or the about request itself, to the server - this information is sent as HTTP “headers”. Let’s look at each of these in turn.\n",
    "\n",
    "Note that urllib.request makes use of the same Request interface to handle all URL schemes.\n",
    "For example, you can make an FTP request like so:\n",
    "req = urllib.request.Request('ftp://example.com/')"
   ]
  },
  {
   "cell_type": "code",
   "execution_count": null,
   "metadata": {
    "scrolled": true
   },
   "outputs": [],
   "source": [
    "# 3. Using request object\n",
    "import urllib.request\n",
    "import urllib.parse\n",
    "\n",
    "url = 'http://www.baidu.com'\n",
    "headers = {'User-agent':'Mozilla/5.0 (Windows NT 10.0; WOW64) AppleWebKit/537.36 (KHTML, like Gecko) Chrome/69.0.3497.100 Safari/537.36',\n",
    "          'Accept':'application/json, text/javascript, */*; q=0.01',}\n",
    "data = urllib.parse.urlencode(formdata)\n",
    "data = data.encode('utf-8') # data should be bytes.\n",
    "\n",
    "with urllib.request.urlopen('http://www.baidu.com') as response:\n",
    "    html = response.read()\n",
    "    print(html)\n"
   ]
  },
  {
   "cell_type": "markdown",
   "metadata": {},
   "source": [
    "### Making a request with urllib with GET parameters\n",
    "\n",
    "The parameters that are passed alongside a GET request are done so through the query string attached to the end of a URL, so adding your own parameters does not require any special functions or classes, all you'll need to do is make sure your query string is properly encoded and formatted. \n",
    "\n",
    "To create your key-value pairs that will be contained in the query string, you can create a dictionary object, this object can then be encoded and formatted using urllib's urlencode() function contained within the urllib.parse module. "
   ]
  },
  {
   "cell_type": "code",
   "execution_count": null,
   "metadata": {},
   "outputs": [],
   "source": [
    "import urllib.request   \n",
    "import urllib.parse      \n",
    "\n",
    "url = \"http://10.10.10.135/dwva/index.html\"   \n",
    "params = { \"param1\": \"arg1\",\n",
    "          \"param2\": \"arg2\",\n",
    "          \"param3\": \"arg3\"   \n",
    "         }      \n",
    "query_string = urllib.parse.urlencode( params )     \n",
    "url = url + \"?\" + query_string      \n",
    "\n",
    "with urllib.request.urlopen( url ) as response:        \n",
    "    response_text = response.read()       \n",
    "    print( response_text )"
   ]
  },
  {
   "cell_type": "markdown",
   "metadata": {},
   "source": [
    "## Data\n",
    "Sometimes you want to send data to a URL( often the url will refer to a CGI(common gateway interface) script or other web application). With HTTP, this is often done using what's known as a POST request. This is often what your browser does when you submit a HTML form that you filed in on the web. Not all POSTs have to come from forms: you can use a POST to transmit arbitray data to your own application. In the common case of HTML forms, the data need to be encoded in a standard way, and then passed to the Request object as the data argument. The encoding is done using a function from the urllib.parse library."
   ]
  },
  {
   "cell_type": "code",
   "execution_count": null,
   "metadata": {},
   "outputs": [],
   "source": [
    "import urllib.parse # for encoding or decoding\n",
    "import urllib.request\n",
    "# Get the url and post form data by chrome developer's view.\n",
    "url = 'http://fanyi.youdao.com/translate_o?smartresult=dict&smartresult=rule'\n",
    "\n",
    "# replace tools: regex model ^(.*):(.*)$  replace with '\\1':'\\2',\n",
    "formdata ={'i':'bauu',\n",
    "        'from':'AUTO',\n",
    "        'to':'AUTO',\n",
    "        'smartresult':'dict',\n",
    "        'client':'fanyideskweb',\n",
    "        'salt':'1537514737128',\n",
    "        'sign':'3751e174aacbc8620a461ca710cb2e50',\n",
    "        'doctype':'json',\n",
    "        'version':'2.1',\n",
    "        'keyfrom':'fanyi.web',\n",
    "        'action':'FY_BY_CLICKBUTTION',\n",
    "        'typoResult':'fals',\n",
    "        }\n",
    "headers = {'User-agent':'Mozilla/5.0 (Windows NT 10.0; WOW64) AppleWebKit/537.36 (KHTML, like Gecko) Chrome/69.0.3497.100 Safari/537.36',\n",
    "          'Accept':'application/json, text/javascript, */*; q=0.01',}\n",
    "data = urllib.parse.urlencode(formdata)\n",
    "data = data.encode('utf-8') # data should be bytes.\n",
    "req = urllib.request.Request(url,data=data,headers=headers)\n",
    "with urllib.request.urlopen(req) as response:\n",
    "    the_page =response.read()\n",
    "    print(the_page)\n",
    "\n",
    "    \n",
    "'''Note the encodings are sometimes required (e.g. for the file upload from html forms)\n",
    "'''"
   ]
  },
  {
   "cell_type": "code",
   "execution_count": null,
   "metadata": {},
   "outputs": [],
   "source": [
    "# data example 2\n",
    "import urllib.parse # for encoding or decoding\n",
    "import urllib.request\n",
    "# Get the url and post form data by chrome developer's view.\n",
    "url = 'http://10.10.10.135/dvwa/login.php'\n",
    "\n",
    "# replace tools: regex model ^(.*):(.*)$  replace with '\\1':'\\2',\n",
    "formdata ={'username':'admin','password':'admin','Login':'Login',}\n",
    "headers = {'User-agent':'Mozilla/5.0 (Windows NT 10.0; WOW64) AppleWebKit/537.36 (KHTML, like Gecko) Chrome/69.0.3497.100 Safari/537.36',\n",
    "          'Accept':'text/html,application/json, text/javascript, */*; q=0.01',}\n",
    "data = urllib.parse.urlencode(formdata)\n",
    "#print(data)\n",
    "data = data.encode('ascii') # data should be bytes.\n",
    "#print(data)\n",
    "\n",
    "req = urllib.request.Request(url,data,headers)\n",
    "print(req)\n",
    "print('-'*20)\n",
    "with urllib.request.urlopen(req) as response:\n",
    "    the_page =response.read()\n",
    "    print(the_page)\n"
   ]
  },
  {
   "cell_type": "markdown",
   "metadata": {},
   "source": [
    "## GET and POST method\n",
    "\n",
    "If you do not pass the data argument, urllib uses a GET request. One way in which GET and POST requests differ is that POST requests often have “side-effects”: they change the state of the system in some way (for example by placing an order with the website for a hundredweight of tinned spam to be delivered to your door). Though the HTTP standard makes it clear that POSTs are intended to always cause side-effects, and GET requests never to cause side-effects, nothing prevents a GET request from having side-effects, nor a POST requests from having no side-effects. Data can also be passed in an HTTP GET request by encoding it in the URL itself. This is done as follows:"
   ]
  },
  {
   "cell_type": "code",
   "execution_count": null,
   "metadata": {},
   "outputs": [],
   "source": [
    "\n",
    "import urllib.request\n",
    "import urllib.parse\n",
    "\n",
    "data = {}\n",
    "data['name'] = 'somebody here'\n",
    "data['location'] = 'Northampton'\n",
    "data['language'] = 'python'\n",
    "url_values = urllib.parse.urlencode(data)\n",
    "print(url_values)\n",
    "\n",
    "url = 'http://www.example.com/example.cgi'\n",
    "full_url = url + '?' + url_values \n",
    "#Notice that the full URL is created by adding a ? to the URL, followed by the encoded values.\n",
    "data = urllib.request.urlopen(full_url)#GET method\n",
    "print(data)"
   ]
  },
  {
   "cell_type": "code",
   "execution_count": null,
   "metadata": {},
   "outputs": [],
   "source": [
    "import urllib.request\n",
    "import urllib.parse\n",
    "\n",
    "url = 'http://www.baidu.com/s'\n",
    "headers = {'User-agent':'Mozilla'}\n",
    "keyword = input(\"Pl input search keyword:\")\n",
    "wd = {'wd':keyword}\n",
    "wd_encoded = urllib.parse.urlencode(wd)\n",
    "query_url = url + '?' + wd_encoded\n",
    "request = urllib.request.Request(query_url,headers=headers)\n",
    "response = urllib.request.urlopen(request)\n",
    "html = response.read()\n",
    "\n",
    "#print(html)\n",
    "with open('crawler01.html','w') as f:\n",
    "    print(html.decode('gb2312'),file = f)\n"
   ]
  },
  {
   "cell_type": "code",
   "execution_count": null,
   "metadata": {},
   "outputs": [],
   "source": [
    "\"\"\"\n",
    "A case of crawler is used to fetch the content of baidu's tieba url, in according to user's input keywords.\n",
    "\n",
    "\"\"\"\n",
    "import urllib.request\n",
    "import urllib.parse\n",
    "\n",
    "def loadPage(url):\n",
    "    \"\"\"\n",
    "        Function: Fetching url and accessing the webpage content.\n",
    "        url: the wanted webpage url.\n",
    "    \"\"\"\n",
    "    headers = {'Accept': 'text/html','User-Agent':'Mozilla/5.0',}\n",
    "    print('To send http request to %s' % url)\n",
    "    request = urllib.request.Request(url,headers=headers)\n",
    "\n",
    "    return  urllib.request.urlopen(request).read()\n",
    "\n",
    "def writePage(html,filename):\n",
    "    \"\"\"\n",
    "        Fuction: To write the content of html into a local file.\n",
    "        html: The response content.\n",
    "        filename: the local filename to be used stored the response.\n",
    "    \"\"\"\n",
    "    print('To write html into a local file %s ...' % filename)\n",
    "    with open(filename,'w') as f:\n",
    "        f.write(str(html))\n",
    "    print('Work done.')\n",
    "    print('-'*10)\n",
    "\n",
    "def tiebaCrawler(url,beginpPage,endPage,keyword):\n",
    "    \"\"\"\n",
    "        Function: The scheduler of tieba crawler, is used to access every wanted url in turns.\n",
    "        url: the url of baidu's tieba webpage\n",
    "        beginPage: initial page\n",
    "        endPage: end page\n",
    "        keyword: the wanted keyword \n",
    "    \"\"\"\n",
    "    filename = keyword + '_tieba.html'\n",
    "    for page in range(beginpPage,endPage+1):\n",
    "        pn = (page - 1) * 50\n",
    "        queryurl = url + '&pn=' + str(pn)\n",
    "        #print(queryurl)\n",
    "        \n",
    "        writePage(loadPage(queryurl),filename)\n",
    "        \n",
    "if __name__ == '__main__':\n",
    "    kw = input('Pl input the wanted tieba\\'s name:' )\n",
    "    beginPage = int(input('The beginning page number:'))\n",
    "    endPage = int(input('The ending page number:'))\n",
    "    url = 'http://tieba.baidu.com/f?'\n",
    "    key = urllib.parse.urlencode({'kw':kw})\n",
    "    queryurl = url+ key\n",
    "    tiebaCrawler(url,beginPage,endPage,kw)\n",
    "    "
   ]
  },
  {
   "cell_type": "markdown",
   "metadata": {
    "collapsed": true
   },
   "source": [
    "## Handling Exceptions\n",
    "\n",
    "urlopen raises URLError when it cannot handle a response (though as usual with Python APIs, built-in exceptions such as ValueError, TypeError etc. may also be raised).\n",
    "HTTPError is the subclass of URLError raised in the specific case of HTTP URLs.\n",
    "The exception classes are exported from the urllib.error module.\n",
    "\n",
    "## URLError\n",
    "Often, URLError is raised because there is no network connection (no route to the specified server), or the specified server doesn’t exist. In this case, the exception raised will have a ‘reason’ attribute, which is a tuple containing an error code and a text error message."
   ]
  },
  {
   "cell_type": "code",
   "execution_count": null,
   "metadata": {},
   "outputs": [],
   "source": [
    "import urllib.error\n",
    "import urllib.request\n",
    "\n",
    "req = urllib.request.Request('http://www.pretend_server.org')\n",
    "try: \n",
    "    print(1)\n",
    "    urllib.request.urlopen(req)\n",
    "except urllib.error.URLError as e:\n",
    "    print(e.reason) "
   ]
  },
  {
   "cell_type": "markdown",
   "metadata": {
    "collapsed": true
   },
   "source": [
    "### HTTPError\n",
    "\n",
    "Every http response from the server cotains a numeric \"status code\". Sometimes that status code indicates that server is unable to fulfill the request. The default handlers will handle some of response for you. (for example, if the response is a \"redirection\" that requests the client fetch the document from a different URL, urllib will handle that for you.) For those it can't hadle, urlopen will raise an HTTPError. Typical errors include '404' page not found, '403' request forbidden, and '401 authentication required.\n",
    "\n",
    "### Error Codes\n",
    "Because the default handlers handle redirects(codes in the 300 range), and code in 100-299 range indicate success, you will usually only see error codes in 400-599 range.\n",
    "\n",
    "http.server.BaseHTTPRequestHandler.resposnes is a userful dictionary of response codes in that shows the response codes used by RFC2616. The dictionary is reproduced here for convenience.\n"
   ]
  },
  {
   "cell_type": "code",
   "execution_count": null,
   "metadata": {},
   "outputs": [],
   "source": [
    "# Table mapping response codes to messages; entries have the\n",
    "# form {code: (shortmessage, longmessage)}.\n",
    "import http.server\n",
    "import pprint\n",
    "\n",
    "#pprint.pprint(http.server.BaseHTTPRequestHandler.responses)\n",
    "pprint.pprint(http.server.BaseHTTPRequestHandler.responses[100])"
   ]
  },
  {
   "cell_type": "markdown",
   "metadata": {},
   "source": [
    "When an error is raised the server responds by returning an HTTP error code and an error page. You can use the HTTPError instance as a response on the page returned. This means that as well as the code attribute, it also has read, geturl, and info, methods as returned by the urllib.response module:"
   ]
  },
  {
   "cell_type": "code",
   "execution_count": null,
   "metadata": {},
   "outputs": [],
   "source": [
    "import urllib.request\n",
    "import urllib.error\n",
    "\n",
    "\n",
    "request = urllib.request.Request('http://www.python.org/fish.html')\n",
    "try:\n",
    "    urllib.request.urlopen(request)\n",
    "except urllib.error.HTTPError as e:\n",
    "    print(e.code)\n",
    "    print(e.read())"
   ]
  },
  {
   "cell_type": "markdown",
   "metadata": {},
   "source": [
    "### Wrapping it Up\n",
    "\n",
    "So if you want to be prepared for HTTPError or URLError there are two basic approaches. I prefer the second approach.\n",
    "\n",
    "Number 1:"
   ]
  },
  {
   "cell_type": "code",
   "execution_count": null,
   "metadata": {},
   "outputs": [],
   "source": [
    "from urllib.request import Request, urlopen\n",
    "from urllib.error import URLError,HTTPError\n",
    "\n",
    "req = Request('http://www.python1.org/fish.html')\n",
    "\n",
    "try:\n",
    "    response = urlopen(req)\n",
    "except HTTPError as e:\n",
    "    print('The server couldn\\'t fulfill the request.')\n",
    "    print('Error code: ', e.code)\n",
    "except URLError as e: \n",
    "    print('We failed to reach a server.')\n",
    "    print('Reason:',e.reason)\n",
    "else:\n",
    "    pass\n"
   ]
  },
  {
   "cell_type": "markdown",
   "metadata": {},
   "source": [
    "Note The except HTTPError must come first, otherwise except URLError will also catch an HTTPError.\n",
    "Number 2:"
   ]
  },
  {
   "cell_type": "code",
   "execution_count": null,
   "metadata": {},
   "outputs": [],
   "source": [
    "from urllib.request import Request,urlopen\n",
    "from urllib.error import URLError\n",
    "\n",
    "req = Request('http://www.python1.org/fish.html')\n",
    "try:\n",
    "    response = urlopen(req)\n",
    "except URLError as e:\n",
    "    if hasattr(e,'reason'):\n",
    "        print('We failed to reach a server.')\n",
    "        print('Reason: ', e.reason)\n",
    "    elif hasattr(e,'code'):\n",
    "        print('The server couldn\\'t fulfill the request.')\n",
    "        print('Error code: ',e.code)\n",
    "    else:\n",
    "        pass\n",
    "    \n"
   ]
  },
  {
   "cell_type": "markdown",
   "metadata": {},
   "source": [
    "### info and geturl\n",
    "\n",
    "The response returned by urlopen (or the HTTPError instance) has two useful methods info() and geturl() and is defined in the module urllib.response.\n",
    "\n",
    "geturl - this returns the real URL of the page fetched. This is useful because urlopen (or the opener object used) may have followed a redirect. The URL of the page fetched may not be the same as the URL requested.\n",
    "\n",
    "info - this returns a dictionary-like object that describes the page fetched, particularly the headers sent by the server. It is currently an http.client.HTTPMessage instance.\n",
    "\n",
    "Typical headers include ‘Content-length’, ‘Content-type’, and so on. See the Quick Reference to HTTP Headers(http://jkorpela.fi/http.html) for a useful listing of HTTP headers with brief explanations of their meaning and use."
   ]
  },
  {
   "cell_type": "code",
   "execution_count": null,
   "metadata": {},
   "outputs": [],
   "source": [
    "import urllib.request\n",
    "import urllib.response\n",
    "\n",
    "with urllib.request.urlopen('http://10.10.10.135/dvwa/login.php') as response:\n",
    "    print(response.info())\n",
    "    print(response.geturl())\n"
   ]
  },
  {
   "cell_type": "markdown",
   "metadata": {},
   "source": [
    "### Openers and Handlers\n",
    "\n",
    "When you fetch a URL you use an opener (an instance of the perhaps confusingly-named urllib.request.OpenerDirector). Normally we have been using the default opener via urlopen - but you can create custom openers. Openers use handlers, All the \"heavy lifting\" is done by the handlers. Each handler knows how to open URLs for a particular URL scheme (http, ftp, etc), or how to handle an aspect of URL opening, for example HTTP redirections or HTTP cookies.\n",
    "\n",
    "You will want to create openers if you want to fetch URLs with specific handlers installed, for example to get an opener that handlers cookies, or to get an opener that does not handle redirections.\n",
    "\n",
    "To create an opener, instantiate an OpenerDirector, and then call .add_handler(some handler instance) repeatedly.\n",
    "Alternatively, you can use build_opener, which is a convenience function for creating opener objects with a single function call. build_opener adds several handlers by default, but provides a quick way to add more and/or override the default handlers.\n",
    "\n",
    "Other sorts of handlers you might want to can handle proxies, authentication, and other common but slightly specialised situations.\n",
    "\n",
    "install_opener can be used to make an opener object the (global) default opener. This means that calls to urlopen will use the opener you have installed.\n",
    "\n",
    "Opener objects have an open method, which can be called directly to fetch urls in the same way as the urlopen function: there’s no need to call install_opener, except as a convenience.\n",
    "\n",
    "### Basic Authentication\n",
    "\n",
    "To illustrate creating and installing a handler we will use the HTTPBasicAuthHandler. For a more detailed discussion of this subject – including an explanation of how Basic Authentication works - see the Basic Authentication Tutorial.\n",
    "\n",
    "When authentication is required, the server sends a header (as well as the 401 error code) requesting authentication. This specifies the authentication scheme and a ‘realm’. The header looks like: WWW-Authenticate: SCHEME realm=\"REALM\".\n",
    "\n",
    "e.g.\n",
    "\n",
    "WWW-Authenticate: Basic realm=\"cPanel Users\"\n",
    "\n",
    "The client should then retry the request with the appropriate name and password for the realm included as a header in the request. This is ‘basic authentication’. In order to simplify this process we can create an instance of HTTPBasicAuthHandler and an opener to use this handler.\n",
    "\n",
    "The HTTPBasicAuthHandler uses an object called a password manager to handle the mapping of URLs and realms to passwords and usernames. If you know what the realm is (from the authentication header sent by the server), then you can use a HTTPPasswordMgr. Frequently one doesn’t care what the realm is. In that case, it is convenient to use HTTPPasswordMgrWithDefaultRealm. This allows you to specify a default username and password for a URL. This will be supplied in the absence of you providing an alternative combination for a specific realm. We indicate this by providing None as the realm argument to the add_password method.\n",
    "\n",
    "The top-level URL is the first URL that requires authentication. URLs “deeper” than the URL you pass to .add_password() will also match."
   ]
  },
  {
   "cell_type": "code",
   "execution_count": null,
   "metadata": {
    "collapsed": true
   },
   "outputs": [],
   "source": [
    "# create a password manager\n",
    "password_mgr = urllib.request.HTTPPasswordMgrWithDefaultRealm()\n",
    "\n",
    "# Add the username and password.\n",
    "# If we knew the realm, we could use it instead of None.\n",
    "top_level_url = \"http://example.com/foo/\"\n",
    "password_mgr.add_password(None, top_level_url, username, password)\n",
    "\n",
    "handler = urllib.request.HTTPBasicAuthHandler(password_mgr)\n",
    "\n",
    "# create \"opener\" (OpenerDirector instance)\n",
    "opener = urllib.request.build_opener(handler)\n",
    "\n",
    "# use the opener to fetch a URL\n",
    "opener.open(a_url)\n",
    "\n",
    "# Install the opener.\n",
    "# Now all calls to urllib.request.urlopen use our opener.\n",
    "urllib.request.install_opener(opener)"
   ]
  },
  {
   "cell_type": "markdown",
   "metadata": {},
   "source": [
    "Note In the above example we only supplied our HTTPBasicAuthHandler to build_opener. By default openers have the handlers for normal situations – ProxyHandler (if a proxy setting such as an http_proxy environment variable is set), UnknownHandler, HTTPHandler, HTTPDefaultErrorHandler, HTTPRedirectHandler, FTPHandler, FileHandler, DataHandler, HTTPErrorProcessor.\n",
    "top_level_url is in fact either a full URL (including the ‘http:’ scheme component and the hostname and optionally the port number) e.g. \"http://example.com/\" or an “authority” (i.e. the hostname, optionally including the port number) e.g. \"example.com\" or \"example.com:8080\" (the latter example includes a port number). The authority, if present, must NOT contain the “userinfo” component - for example \"joe:password@example.com\" is not correct.\n",
    "\n",
    "### Proxies\n",
    "urllib will auto-detect your proxy settings and use those. This is through the ProxyHandler, which is part of the normal handler chain when a proxy setting is detected. Normally that’s a good thing, but there are occasions when it may not be helpful [5]. One way to do this is to setup our own ProxyHandler, with no proxies defined. This is done using similar steps to setting up a Basic Authentication handler:\n",
    "\n",
    ">>>\n",
    ">>> proxy_support = urllib.request.ProxyHandler({})\n",
    ">>> opener = urllib.request.build_opener(proxy_support)\n",
    ">>> urllib.request.install_opener(opener)\n",
    "Note Currently urllib.request does not support fetching of https locations through a proxy. However, this can be enabled by extending urllib.request as shown in the recipe [6].\n",
    "Note HTTP_PROXY will be ignored if a variable REQUEST_METHOD is set; see the documentation on getproxies().\n",
    "\n",
    "Sockets and Layers\n",
    "The Python support for fetching resources from the web is layered. urllib uses the http.client library, which in turn uses the socket library.\n",
    "\n",
    "As of Python 2.3 you can specify how long a socket should wait for a response before timing out. This can be useful in applications which have to fetch web pages. By default the socket module has no timeout and can hang. Currently, the socket timeout is not exposed at the http.client or urllib.request levels. However, you can set the default timeout globally for all sockets using\n",
    "\n",
    "import socket\n",
    "import urllib.request\n",
    "\n",
    "# timeout in seconds\n",
    "timeout = 10\n",
    "socket.setdefaulttimeout(timeout)\n",
    "\n",
    "# this call to urllib.request.urlopen now uses the default timeout\n",
    "# we have set in the socket module\n",
    "req = urllib.request.Request('http://www.voidspace.org.uk')\n",
    "response = urllib.request.urlopen(req)\n",
    "Footnotes\n",
    "This document was reviewed and revised by John Lee.\n",
    "\n",
    "[1]\tGoogle for example.\n",
    "[2]\tBrowser sniffing is a very bad practice for website design - building sites using web standards is much more sensible. Unfortunately a lot of sites still send different versions to different browsers.\n",
    "[3]\tThe user agent for MSIE 6 is ‘Mozilla/4.0 (compatible; MSIE 6.0; Windows NT 5.1; SV1; .NET CLR 1.1.4322)’\n",
    "[4]\tFor details of more HTTP request headers, see Quick Reference to HTTP Headers.\n",
    "[5]\tIn my case I have to use a proxy to access the internet at work. If you attempt to fetch localhost URLs through this proxy it blocks them. IE is set to use the proxy, which urllib picks up on. In order to test scripts with a localhost server, I have to prevent urllib from using the proxy.\n",
    "[6]\turllib opener for SSL proxy (CONNECT method): ASPN Cookbook Recipe.\n"
   ]
  },
  {
   "cell_type": "markdown",
   "metadata": {},
   "source": [
    "### Basic Authentication\n",
    "\n",
    "There is a system for requiring a username&password before a client can visit a webpage. This is called authentication and is implemented on the server. It allows a whole set of pages (called a realm) to be protected by authentication.\n",
    "This scheme are defined by the HTTP spec.\n",
    "The two normal authentication schemes are basic and digest authentication. A summary of basic authentication goes like this :\n",
    "\n",
    "    client makes a request for a webpage\n",
    "    server responds with an error, requesting authentication\n",
    "    client retries request - with authentication details encoded in request\n",
    "    server checks details and sends the page requested, or another error\n",
    "The following sections covers these steps in more details.\n",
    "Error 401 and realms\n",
    "If a page requires authentication then the error code is 401. Included in the response headers will be a 'WWW-authenticate' header. This tells us the authentication scheme the server is using for this page and also something called a realm. It is rarely just a single page that is protected by authentication but a section - a 'realm' of a website. The name of the realm is included in this header line.\n",
    "The 'WWW-Authenticate' header line looks like WWW-Authenticate: SCHEME realm=\"REALM\".\n",
    "\n",
    "For example, if you try to access the popular website admin application cPanel your browser will be sent a header that looks like : WWW-Authenticate: Basic realm=\"cPanel\"\n",
    "\n",
    "If the client already knows the username/password for this realm then it can encode them into the request headers and try again. If the username/password combination are correct, then the request will succeed as normal. If the client doesn't know the username/password it should ask the user. This means that if you enter a protected 'realm' the client effectively has to request each page twice. The first time it will get an error code and be told what realm it is attempting to access - the client can then get the right username/password for that realm (on that server) and repeat the request.\n",
    "\n",
    "HTTP is a 'stateless' protocol. This means that a server using basic authentication won't 'remember' you are logged in [5] and will need to be sent the right header for every protected page you attempt to access.\n",
    "\n",
    "First Example\n",
    "Suppose we attempt to fetch a webpage protected by basic authentication. :"
   ]
  },
  {
   "cell_type": "code",
   "execution_count": null,
   "metadata": {},
   "outputs": [],
   "source": [
    "# data example 2\n",
    "import urllib.parse # for encoding or decoding\n",
    "import urllib.request\n",
    "# Get the url and post form data by chrome developer's view.\n",
    "url = 'http://10.10.10.135/dvwa/index.php'\n",
    "\n",
    "# replace tools: regex model ^(.*):(.*)$  replace with '\\1':'\\2',\n",
    "formdata ={'username':'admin','password':'admin','Login':'Login',}\n",
    "headers = {'User-agent':'Mozilla/5.0 (Windows NT 10.0; WOW64) AppleWebKit/537.36 (KHTML, like Gecko) Chrome/69.0.3497.100 Safari/537.36',\n",
    "          'Accept':'text/html,application/json, text/javascript, */*; q=0.01',}\n",
    "data = urllib.parse.urlencode(formdata)\n",
    "#print(data)\n",
    "data = data.encode('ascii') # data should be bytes.\n",
    "#print(data)\n",
    "\n",
    "req = urllib.request.Request(url,headers=headers)\n",
    "try:\n",
    "    response = urllib.request.urlopen(req)\n",
    "    print(response.read())\n",
    "except URLError as e:\n",
    "    if hasattr(e,'reason'):\n",
    "        print('We failed to reach a server.')\n",
    "        print('Reason: ', e.reason)\n",
    "    elif hasattr(e,'code'):\n",
    "        print('The server couldn\\'t fulfill the request.')\n",
    "        print('Error code: ',e.code)\n",
    "    else:\n",
    "        pass"
   ]
  },
  {
   "cell_type": "code",
   "execution_count": null,
   "metadata": {
    "collapsed": true
   },
   "outputs": [],
   "source": []
  }
 ],
 "metadata": {
  "kernelspec": {
   "display_name": "Python 3",
   "language": "python",
   "name": "python3"
  },
  "language_info": {
   "codemirror_mode": {
    "name": "ipython",
    "version": 3
   },
   "file_extension": ".py",
   "mimetype": "text/x-python",
   "name": "python",
   "nbconvert_exporter": "python",
   "pygments_lexer": "ipython3",
   "version": "3.6.5"
  }
 },
 "nbformat": 4,
 "nbformat_minor": 2
}
