{
 "cells": [
  {
   "cell_type": "markdown",
   "metadata": {},
   "source": [
    "# 数学概念\n",
    "\n",
    "## 自反性\n",
    "\n",
    "令$C = {(x,y)|x,y \\in A}$ ，设D是C的某非空子集，如果$(x,y) \\in D$，则称x,y有由D规定的关系，记为$x \\to y$。\n",
    "\n",
    "如果$(x,x)$属于D总成立，则称那个由D规定的关系具有自反性。\n",
    "\n",
    "## 距离\n",
    "\n",
    "距离的定义是一个宽泛的概念，只要满足非负、自反、三角不等式就可以称之为距离。\n",
    "\n",
    "设n维空间中有两点坐标x,y，p为常数，闵可夫斯基距离定义为：\n",
    "\n",
    "$D(x,y) = \\sqrt[p]{\\sum_{u=1}^n|x_u-y_u|^p}$\n",
    "\n",
    "## 范数\n",
    "\n",
    "范数是一种强化了的距离概念，它在定义上比距离多了一条数乘的运算法则。有时为了便于理解，我们把范数当作距离来理解。\n",
    "\n",
    "与闵可夫斯基距离的定义一样，L-P范数不是一个范数，而是一组范数：\n",
    "\n",
    "$L_p = ||X||_p = \\sqrt[p]{\\sum_{i=1}^{n} |x_i|^p}, X = (x_1,x_2,...,x_n)$\n",
    "\n"
   ]
  },
  {
   "cell_type": "markdown",
   "metadata": {},
   "source": [
    "## 方向导数\n",
    "\n",
    "\n",
    "## 梯度\n",
    "\n",
    "设函数$z = f(x,y)$在平面区域D内具有一阶连续偏导数，则对于每一个点$P_0(x_0,y_0) \\in D$都可以确定一个向量$f_x(x_0,y_0)i+f_y(x_0,y_0)j$，称为函数$f(x,y)$在点$P_0(x_0,y_0)$的梯度，记作$grad f(x_0,y_0)$或$ \\bigtriangledown f(x_0,y_0)$,即\n",
    "\n",
    "$grad f(x_0,y_0) = \\bigtriangledown f(x_0,y_0) = f_x(x_0,y_0)i + f_y(x_0,y_0)j$\n",
    "\n",
    "其中，$ \\bigtriangledown = \\frac{\\partial}{\\partial x}i+\\frac{\\partial}{\\partial y}j$ 称为（二维的）向量微分算子或Nabla算子\n",
    "\n",
    "梯度与方向导数的关系：\n",
    "\n",
    "$\\frac{\\partial f}{\\partial l}|_{(x_0,y_0)} = f_x(x_0,y_0)cos\\alpha + f_y(x_0,y_0)cos\\beta = grad f(x_0,y_0) \\centerdot e_l = |grad f(x_0,y_0)|cos\\theta$\n",
    "\n",
    "$\\theta$是$grad f(x_0,y_0) 与 e_l$的夹角。\n",
    "\n",
    "特别的，当$\\theta = 0$时，即沿梯度方向时，方向导数$\\frac{\\partial f}{\\partial l}|_{(x_0,y_0)} $ 取得最大值，这个值就是梯度的模$|grad f(x_0,y_0)|$。\n",
    "\n",
    "当$\\theta = \\pi$时，即沿梯度反方向时，方向导数$\\frac{\\partial f}{\\partial l}|_{(x_0,y_0)} $ 取得最小值，这个值就是梯度的模相反数 $- |grad f(x_0,y_0)| $。\n",
    "\n",
    "当$\\theta = \\frac{\\pi}{2}$时，即沿梯度正交方向时，方向导数$\\frac{\\partial f}{\\partial l}|_{(x_0,y_0)} $ 取得值为0。\n",
    "\n",
    "**几何意义**\n",
    "\n",
    "二元函数$z = f(x,y)$在几何上表示一个曲面，这曲面被平面$z =c$（c为常数）所截得得曲线L得方程为 $Z = f(x,y), Z = c$。\n",
    "\n",
    "这条曲线L在xoy平面上的投影是一条平面曲线$L^*$，它在xoy平面上的方程为$f(x,y) = c$，称为平面曲线$L^*$为函数$z = f(x,y)$的等值线。\n",
    "\n",
    "若$f_x,f_y$不同时为零，则等值线$f(x,y)=c$上任一点$P_0(x_0,y_0)$处的一个单位法向量为\n",
    "\n",
    "$n = \\frac{1}{\\sqrt{f_x^2(x_0,y_0) + f_y^2(x_0,y_0)}}(f_x(x_0,y_0),f_y(x_0,y_0))$\n",
    "\n",
    "$grad f(x_0,y_0) = \\frac {\\partial f}{\\partial n} \\overrightarrow n$\n",
    "\n",
    "如果引进曲面$f(x,y,z) = c$ 为函数的等量面的概念，则可得函数$f(x,y,z)$在点$P_0(x_0,y_0,z_0)$的梯度的方向与过点$P_0$的等量面$f(x,y,z) = c$在这点的法线的一个方向相同，梯度的模等于函数在这个法线方向的方向导数。"
   ]
  },
  {
   "cell_type": "code",
   "execution_count": null,
   "metadata": {},
   "outputs": [],
   "source": []
  }
 ],
 "metadata": {
  "kernelspec": {
   "display_name": "Python 3",
   "language": "python",
   "name": "python3"
  },
  "language_info": {
   "codemirror_mode": {
    "name": "ipython",
    "version": 3
   },
   "file_extension": ".py",
   "mimetype": "text/x-python",
   "name": "python",
   "nbconvert_exporter": "python",
   "pygments_lexer": "ipython3",
   "version": "3.6.5"
  },
  "toc": {
   "base_numbering": 1,
   "nav_menu": {},
   "number_sections": true,
   "sideBar": true,
   "skip_h1_title": false,
   "title_cell": "Table of Contents",
   "title_sidebar": "Contents",
   "toc_cell": false,
   "toc_position": {},
   "toc_section_display": true,
   "toc_window_display": false
  }
 },
 "nbformat": 4,
 "nbformat_minor": 2
}
