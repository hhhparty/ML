{
 "cells": [
  {
   "cell_type": "code",
   "execution_count": 1,
   "metadata": {},
   "outputs": [
    {
     "name": "stdout",
     "output_type": "stream",
     "text": [
      "[ 0.   0.   0.   1.5  2.5 16.5]\n",
      "-16.5\n"
     ]
    }
   ],
   "source": [
    "\"\"\"企业利润线性规划求解\"\"\"\n",
    "\n",
    "import numpy as np\n",
    "import matplotlib.pyplot as mpl\n",
    "from scipy import optimize\n",
    "\n",
    "\"\"\"\n",
    "scipy.optimize.linprog(c, A_ub=None, b_ub=None, A_eq=None, b_eq=None, bounds=None, method='simplex', callback=None, options=None)\n",
    "实例\n",
    "minmize:\n",
    "       -7x1+7x2-2x3-x4-6x5\n",
    "s.t.:\n",
    "       3x1-x2+x3-2x4=-3\n",
    "       2x1+x2+x4+x5=4\n",
    "       -x1+3x2-3x4+x6=12\n",
    "       xi>=0\n",
    "\"\"\"\n",
    "c=np.array([-7,7,-2,-1,-6,0])\n",
    "a=np.array([[3,-1,1,-2,0,0],[2,1,0,1,1,0],[-1,3,0,-3,0,1]])\n",
    "b=np.array([-3,4,12])\n",
    "\n",
    "res=optimize.linprog(c,A_eq=a,b_eq=b,bounds=((0,None),(0,None),(0,None),(0,None),(0,None),(0,None)))\n",
    "print (res.x)\n",
    "print (res.fun)"
   ]
  },
  {
   "cell_type": "code",
   "execution_count": null,
   "metadata": {},
   "outputs": [],
   "source": []
  }
 ],
 "metadata": {
  "kernelspec": {
   "display_name": "Python 3",
   "language": "python",
   "name": "python3"
  },
  "language_info": {
   "codemirror_mode": {
    "name": "ipython",
    "version": 3
   },
   "file_extension": ".py",
   "mimetype": "text/x-python",
   "name": "python",
   "nbconvert_exporter": "python",
   "pygments_lexer": "ipython3",
   "version": "3.6.5"
  }
 },
 "nbformat": 4,
 "nbformat_minor": 2
}
