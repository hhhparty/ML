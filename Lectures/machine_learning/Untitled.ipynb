{
 "cells": [
  {
   "cell_type": "code",
   "execution_count": 13,
   "metadata": {},
   "outputs": [
    {
     "data": {
      "text/plain": [
       "0       0.03\n",
       "1      -0.02\n",
       "2       0.01\n",
       "3       0.00\n",
       "4       0.02\n",
       "5       0.02\n",
       "6      -0.01\n",
       "7      -0.04\n",
       "8       0.02\n",
       "9       0.05\n",
       "10     -0.02\n",
       "11      0.00\n",
       "12      0.06\n",
       "13     -0.04\n",
       "14      0.01\n",
       "15     -0.01\n",
       "16     -0.02\n",
       "17      0.01\n",
       "18     -0.04\n",
       "19     -0.02\n",
       "20     -0.03\n",
       "21     -0.04\n",
       "22      0.00\n",
       "23      0.06\n",
       "24      0.01\n",
       "25      0.01\n",
       "26     -0.03\n",
       "27     -0.01\n",
       "28     -0.07\n",
       "29     -0.02\n",
       "        ... \n",
       "1489    0.01\n",
       "1490   -0.01\n",
       "1491   -0.02\n",
       "1492   -0.02\n",
       "1493   -0.01\n",
       "1494    0.01\n",
       "1495   -0.01\n",
       "1496    0.03\n",
       "1497   -0.01\n",
       "1498    0.00\n",
       "1499   -0.02\n",
       "1500   -0.03\n",
       "1501    0.01\n",
       "1502   -0.04\n",
       "1503    0.01\n",
       "1504   -0.01\n",
       "1505   -0.04\n",
       "1506    0.00\n",
       "1507   -0.01\n",
       "1508   -0.01\n",
       "1509    0.00\n",
       "1510    0.05\n",
       "1511    0.02\n",
       "1512    0.00\n",
       "1513   -0.01\n",
       "1514   -0.05\n",
       "1515   -0.02\n",
       "1516    0.00\n",
       "1517   -0.03\n",
       "1518    0.01\n",
       "Name: 涨跌额, Length: 1519, dtype: float64"
      ]
     },
     "execution_count": 13,
     "metadata": {},
     "output_type": "execute_result"
    }
   ],
   "source": [
    "import pandas as pd\n",
    "\n",
    "df = pd.read_csv('data/stock/stock_train.csv',encoding='gb2312')\n",
    "df.head()\n",
    "df['涨跌额']"
   ]
  },
  {
   "cell_type": "code",
   "execution_count": null,
   "metadata": {},
   "outputs": [],
   "source": []
  }
 ],
 "metadata": {
  "kernelspec": {
   "display_name": "Python 3",
   "language": "python",
   "name": "python3"
  },
  "language_info": {
   "codemirror_mode": {
    "name": "ipython",
    "version": 3
   },
   "file_extension": ".py",
   "mimetype": "text/x-python",
   "name": "python",
   "nbconvert_exporter": "python",
   "pygments_lexer": "ipython3",
   "version": "3.7.1"
  },
  "toc": {
   "base_numbering": 1,
   "nav_menu": {},
   "number_sections": true,
   "sideBar": true,
   "skip_h1_title": false,
   "title_cell": "Table of Contents",
   "title_sidebar": "Contents",
   "toc_cell": false,
   "toc_position": {},
   "toc_section_display": true,
   "toc_window_display": false
  }
 },
 "nbformat": 4,
 "nbformat_minor": 2
}
