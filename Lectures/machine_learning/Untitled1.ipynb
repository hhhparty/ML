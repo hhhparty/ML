{
 "cells": [
  {
<<<<<<< HEAD
   "cell_type": "markdown",
   "metadata": {},
   "source": [
    "# 定义神经网络层的构建方法"
   ]
  },
  {
   "cell_type": "code",
   "execution_count": 1,
   "metadata": {},
   "outputs": [],
   "source": [
    "import tensorflow as tf\n",
    "import numpy as np\n",
    "\n",
    "# 先写一个添加层的函数（可以一会儿再理解它）\n",
    "def add_layer(inputs, in_size, out_size, activation_function=None):\n",
    "    # 增加一个以上的层，并返回该层的输出。\n",
    "    # 下面定义了神经元相关的权重、阈值、激活函数 \n",
    "    Weights = tf.Variable(tf.random_normal([in_size, out_size]))# 初始化连接权重\n",
    "    biases = tf.Variable(tf.zeros([1, out_size]) + 0.1)# 初始化阈值\n",
    "    Wx_plus_b = tf.matmul(inputs, Weights) + biases #matmul指矩阵乘法,这里实际上定义了前向传播过程\n",
    "    if activation_function is None:\n",
    "        outputs = Wx_plus_b\n",
    "    else:\n",
    "        outputs = activation_function(Wx_plus_b)\n",
    "    return outputs"
   ]
  },
  {
   "cell_type": "markdown",
   "metadata": {},
   "source": [
    "# 准备数据"
   ]
  },
  {
   "cell_type": "code",
   "execution_count": null,
   "metadata": {},
   "outputs": [],
   "source": [
    "x_data = np.linspace(-1,1,300)[:, np.newaxis]# 生成300个数据，并将其变成2维数组\n",
    "\n",
    "noise = np.random.normal(0, 0.05, x_data.shape)\n",
    "y_data = np.square(x_data) - 0.5 + noise"
   ]
  },
  {
=======
>>>>>>> e860a60f5a24539badabd388793343594d468c7e
   "cell_type": "code",
   "execution_count": null,
   "metadata": {},
   "outputs": [],
   "source": []
  }
 ],
 "metadata": {
  "kernelspec": {
   "display_name": "Python 3",
   "language": "python",
   "name": "python3"
  },
  "language_info": {
   "codemirror_mode": {
    "name": "ipython",
    "version": 3
   },
   "file_extension": ".py",
   "mimetype": "text/x-python",
   "name": "python",
   "nbconvert_exporter": "python",
   "pygments_lexer": "ipython3",
<<<<<<< HEAD
   "version": "3.7.1"
  },
  "toc": {
   "base_numbering": 1,
   "nav_menu": {},
   "number_sections": true,
   "sideBar": true,
   "skip_h1_title": false,
   "title_cell": "Table of Contents",
   "title_sidebar": "Contents",
   "toc_cell": false,
   "toc_position": {},
   "toc_section_display": true,
   "toc_window_display": false
=======
   "version": "3.6.5"
>>>>>>> e860a60f5a24539badabd388793343594d468c7e
  }
 },
 "nbformat": 4,
 "nbformat_minor": 2
}
