{
 "cells": [
  {
   "cell_type": "markdown",
   "metadata": {},
   "source": [
    "# pandas 技巧"
   ]
  },
  {
   "cell_type": "markdown",
   "metadata": {},
   "source": [
    "## Series"
   ]
  },
  {
   "cell_type": "markdown",
   "metadata": {},
   "source": [
    "### 改变列的类型\n",
    "\n",
    "使用astype方法"
   ]
  },
  {
   "cell_type": "code",
   "execution_count": 11,
   "metadata": {},
   "outputs": [
    {
     "name": "stdout",
     "output_type": "stream",
     "text": [
      "          日期    开盘    收盘   涨跌额     涨跌幅    最低    最高      成交量        成交金额    换手率\n",
      "0  2019-1-31  3.18  3.20  0.03   0.95%  3.18  3.22  3342948  106833.578  0.00%\n",
      "1  2019-1-30  3.18  3.17 -0.02  -0.66%  3.17  3.20  2129268   67781.211  0.00%\n",
      "2  2019-1-29  3.17  3.19  0.01   0.44%  3.15  3.20  3587900  113985.023  0.00%\n",
      "3  2019-1-28  3.20  3.18  0.00  -0.13%  3.17  3.23  2966955   95056.891  0.00%\n",
      "4  2019-1-25  3.16  3.18  0.02   0.76%  3.16  3.20  2722859   86744.766  0.00%\n",
      "<class 'pandas.core.frame.DataFrame'>\n",
      "RangeIndex: 1519 entries, 0 to 1518\n",
      "Data columns (total 10 columns):\n",
      "日期      1519 non-null object\n",
      "开盘      1519 non-null float64\n",
      "收盘      1519 non-null float64\n",
      "涨跌额     1519 non-null float64\n",
      "涨跌幅     1519 non-null object\n",
      "最低      1519 non-null float64\n",
      "最高      1519 non-null float64\n",
      "成交量     1519 non-null int64\n",
      "成交金额    1519 non-null float64\n",
      "换手率     1519 non-null object\n",
      "dtypes: float64(6), int64(1), object(3)\n",
      "memory usage: 118.8+ KB\n",
      "None\n"
     ]
    }
   ],
   "source": [
    "#########改变带百分号的列的类型：从字符串到数字\n",
    "import pandas as pd\n",
    "import numpy as np\n",
    "df = pd.read_csv(\"data/stock/stock_train.csv\", header = 0,encoding=\"gb2312\")\n",
    "print(df.head())\n",
    "\n",
    "print(df.info())\n",
    "df['涨跌幅'] = df['涨跌幅'].str.strip(\"%\").astype(np.float64)/100"
   ]
  },
  {
   "cell_type": "code",
   "execution_count": 23,
   "metadata": {},
   "outputs": [
    {
     "name": "stdout",
     "output_type": "stream",
     "text": [
      "<class 'pandas.core.frame.DataFrame'>\n",
      "RangeIndex: 1519 entries, 0 to 1518\n",
      "Data columns (total 10 columns):\n",
      "日期      1519 non-null object\n",
      "开盘      1519 non-null float64\n",
      "收盘      1519 non-null float64\n",
      "涨跌额     1519 non-null float64\n",
      "涨跌幅     1519 non-null float64\n",
      "最低      1519 non-null float64\n",
      "最高      1519 non-null float64\n",
      "成交量     1519 non-null int64\n",
      "成交金额    1519 non-null float64\n",
      "换手率     1519 non-null float64\n",
      "dtypes: float64(8), int64(1), object(1)\n",
      "memory usage: 118.8+ KB\n"
     ]
    }
   ],
   "source": [
    "import pandas as pd\n",
    "import numpy as np\n",
    "df = pd.read_csv(\"data/stock/stock_train.csv\",\n",
    "        header = 0,encoding=\"gb2312\")\n",
    "\n",
    "df['涨跌幅'] = df['涨跌幅'].str.strip(\"%\").astype(np.float64)/100\n",
    "df['换手率'] = df['换手率'].str.strip(\"%\").astype(np.float64)/100\n",
    "df.info()"
   ]
  },
  {
   "cell_type": "code",
   "execution_count": null,
   "metadata": {},
   "outputs": [],
   "source": []
  }
 ],
 "metadata": {
  "kernelspec": {
   "display_name": "Python 3",
   "language": "python",
   "name": "python3"
  },
  "language_info": {
   "codemirror_mode": {
    "name": "ipython",
    "version": 3
   },
   "file_extension": ".py",
   "mimetype": "text/x-python",
   "name": "python",
   "nbconvert_exporter": "python",
   "pygments_lexer": "ipython3",
   "version": "3.7.1"
  },
  "toc": {
   "base_numbering": 1,
   "nav_menu": {},
   "number_sections": true,
   "sideBar": true,
   "skip_h1_title": false,
   "title_cell": "Table of Contents",
   "title_sidebar": "Contents",
   "toc_cell": false,
   "toc_position": {},
   "toc_section_display": true,
   "toc_window_display": false
  }
 },
 "nbformat": 4,
 "nbformat_minor": 2
}
