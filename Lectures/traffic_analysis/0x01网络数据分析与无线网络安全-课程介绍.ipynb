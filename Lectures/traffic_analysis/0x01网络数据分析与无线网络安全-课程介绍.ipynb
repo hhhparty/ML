{
 "cells": [
  {
   "cell_type": "markdown",
   "metadata": {
    "slideshow": {
     "slide_type": "skip"
    }
   },
   "source": [
    "![慧科核心竞争力](images/01/慧科核心竞争力.png)"
   ]
  },
  {
   "cell_type": "markdown",
   "metadata": {
    "slideshow": {
     "slide_type": "slide"
    }
   },
   "source": [
    "# 网络数据分析与无线网络安全——课程介绍\n",
    "\n",
    "如今的世界，不只存在三维时空，还存在着人造的Cyber Space。\n",
    "\n",
    "在网络空间中，每天都发生着各种各样的事情：\n",
    "\n",
    "从微信微博的用户分享，到电商平台的买卖服务；\n",
    "从传感设备的实时采集，到云端服务的计算反馈；\n",
    "从网络病毒的感染传播，到僵尸网络的组织运行；\n",
    "\n",
    "这些数据、这些活动、这些问题，无一不利用网络，但我们大多却不了解、不掌握。\n",
    "\n",
    "![冰山一角](images/01/冰山一角.jpg)"
   ]
  },
  {
   "cell_type": "markdown",
   "metadata": {},
   "source": [
    "# 网络数据分析与无线安全\n",
    "\n",
    "## 火眼（fireeye）看到的cyberspace\n",
    "\n",
    "<div>\n",
    "<video  controls=\"controls\" src=\"images/01/FireEyeCyberThreatMap.mp4\"  type=\"video/mp4\"  style=\"width:100%\" alt=\"...\" >\n",
    "</div>\n"
   ]
  },
  {
   "cell_type": "markdown",
   "metadata": {},
   "source": [
    "## 网络数据分析应用系统实例——360安全大脑\n",
    "  \n",
    "  \n",
    "<div>\n",
    "<video  controls=\"controls\" src=\"images/01/360安全大脑.mp4\"  type=\"video/mp4\"  style=\"width:100%\" alt=\"...\" >\n",
    "</div>"
   ]
  },
  {
   "cell_type": "markdown",
   "metadata": {},
   "source": [
    "## 阿里云\n",
    "\n",
    "![阿里云态势感知](images/01/阿里云态势感知.png)"
   ]
  },
  {
   "cell_type": "markdown",
   "metadata": {
    "slideshow": {
     "slide_type": "slide"
    }
   },
   "source": [
    "## 课程目标\n",
    "\n",
    "使大家掌握足够的知识、技能、工具，能够：\n",
    "- 识别网络流量的组成；\n",
    "- 诊断网络故障的原因；\n",
    "- 发现恶意软件的源头。\n",
    "\n",
    "所有的网络数据都封装在协议数据包中，深入理解各种协议是实现上述目标的“金钥匙”。\n",
    "\n",
    "![网络拓扑](images/01/simplenetworktopology.png)\n"
   ]
  },
  {
   "cell_type": "markdown",
   "metadata": {},
   "source": [
    "![网络数据流](images/01/dataflow.png)"
   ]
  },
  {
   "cell_type": "markdown",
   "metadata": {
    "slideshow": {
     "slide_type": "slide"
    }
   },
   "source": [
    "## 课程内容\n",
    "\n",
    "|周次|教学内容|课时|\n",
    "|-|-|-|\n",
    "|1|网络数据分析基础\t|3|\n",
    "|2|网络嗅探技术|3|\n",
    "|3|Wireshark应用|3|\n",
    "|4|链路层数据分析|\t3|\n",
    "|5|IP层数据分析|3|\n",
    "|6|传输层数据分析|1|\n",
    "|7|HTTP数据分析|1|\n",
    "|8|DNS与DHCP数据分析|3|\n",
    "|9|FTP、SMTP数据分析|3|\n",
    "|10|SIP、IP电话流量数据分析|3|\n",
    "|11|多媒体网络流量数据分析|3|\t\n",
    "|12|网络流量分析综合实践|3|\n",
    "|13|网络扫描数据包分析|3|\n",
    "|14|DoS攻击数据分析|3|\n",
    "|15|无线网络数据包分析|3|\n"
   ]
  },
  {
   "cell_type": "markdown",
   "metadata": {
    "slideshow": {
     "slide_type": "slide"
    }
   },
   "source": [
    "## 考核方式\n",
    "\n",
    "- 学习态度（10%）\n",
    "- 课堂参与（10%）\n",
    "- 阶段考核（30%）\n",
    "  + 分析报告（论文）\n",
    "- 终结考核（50%）\n",
    "  + 开放性问题 + 分析报告（论文）"
   ]
  },
  {
   "cell_type": "markdown",
   "metadata": {},
   "source": [
    "## 参考资料\n",
    "\n",
    "1. 《Wireshark 数据包分析实战（第2版）》 [美] Chris Sanders 著。\n",
    "2. 《Wireshark 网络分析实战》 [以] Yoram Orzach 著。\n"
   ]
  },
  {
   "cell_type": "code",
   "execution_count": null,
   "metadata": {},
   "outputs": [],
   "source": []
  }
 ],
 "metadata": {
  "celltoolbar": "Slideshow",
  "kernelspec": {
   "display_name": "Python 3",
   "language": "python",
   "name": "python3"
  },
  "language_info": {
   "codemirror_mode": {
    "name": "ipython",
    "version": 3
   },
   "file_extension": ".py",
   "mimetype": "text/x-python",
   "name": "python",
   "nbconvert_exporter": "python",
   "pygments_lexer": "ipython3",
   "version": "3.7.1"
  },
  "toc": {
   "base_numbering": 1,
   "nav_menu": {},
   "number_sections": true,
   "sideBar": true,
   "skip_h1_title": false,
   "title_cell": "Table of Contents",
   "title_sidebar": "Contents",
   "toc_cell": false,
   "toc_position": {},
   "toc_section_display": true,
   "toc_window_display": true
  }
 },
 "nbformat": 4,
 "nbformat_minor": 2
}
